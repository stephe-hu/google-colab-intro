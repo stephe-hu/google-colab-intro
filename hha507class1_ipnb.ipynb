{
  "nbformat": 4,
  "nbformat_minor": 0,
  "metadata": {
    "colab": {
      "provenance": [],
      "authorship_tag": "ABX9TyNnxihP6f9K9Zqso7H/5J3K",
      "include_colab_link": true
    },
    "kernelspec": {
      "name": "python3",
      "display_name": "Python 3"
    },
    "language_info": {
      "name": "python"
    }
  },
  "cells": [
    {
      "cell_type": "markdown",
      "metadata": {
        "id": "view-in-github",
        "colab_type": "text"
      },
      "source": [
        "<a href=\"https://colab.research.google.com/github/stephe-hu/google-colab-intro/blob/main/hha507class1_ipnb.ipynb\" target=\"_parent\"><img src=\"https://colab.research.google.com/assets/colab-badge.svg\" alt=\"Open In Colab\"/></a>"
      ]
    },
    {
      "cell_type": "markdown",
      "source": [
        "# Loading Packages"
      ],
      "metadata": {
        "id": "XT81XE1OzTfy"
      }
    },
    {
      "cell_type": "code",
      "source": [
        "import pandas as pd\n",
        "import seaborn as sns\n",
        "import plotly as plt"
      ],
      "metadata": {
        "id": "yRUe-l4LzfXK"
      },
      "execution_count": 9,
      "outputs": []
    },
    {
      "cell_type": "code",
      "source": [
        "!pip freeze > packages.txt"
      ],
      "metadata": {
        "id": "TqFudxtYznPu"
      },
      "execution_count": 10,
      "outputs": []
    },
    {
      "cell_type": "markdown",
      "source": [
        "# Creating Functions"
      ],
      "metadata": {
        "id": "ecnOSGaSxuTd"
      }
    },
    {
      "cell_type": "code",
      "execution_count": 5,
      "metadata": {
        "id": "pN2_I2GhwJTy"
      },
      "outputs": [],
      "source": [
        "def bloodpress(systolic, diastolic):\n",
        "  total = systolic + diastolic\n",
        "  return total"
      ]
    },
    {
      "cell_type": "code",
      "source": [
        "def bloodsugar(value):\n",
        "  valuetoprint = f\"Your blood sugar is {value}\"\n",
        "  return valuetoprint"
      ],
      "metadata": {
        "id": "-nbm_VFex8_-"
      },
      "execution_count": 6,
      "outputs": []
    },
    {
      "cell_type": "markdown",
      "source": [
        "# Testing Functions"
      ],
      "metadata": {
        "id": "aH28-tF8yaqr"
      }
    },
    {
      "cell_type": "code",
      "source": [
        "# Test for Blood Pressure\n",
        "test1 = bloodpress(190, 155)\n",
        "test1"
      ],
      "metadata": {
        "colab": {
          "base_uri": "https://localhost:8080/"
        },
        "id": "4s7aFU1cyd0r",
        "outputId": "9cc0eae7-adb2-46a6-d067-f5a4d6a7fc09"
      },
      "execution_count": 4,
      "outputs": [
        {
          "output_type": "execute_result",
          "data": {
            "text/plain": [
              "345"
            ]
          },
          "metadata": {},
          "execution_count": 4
        }
      ]
    },
    {
      "cell_type": "code",
      "source": [
        "test2 = bloodsugar(200)\n",
        "print(test2)"
      ],
      "metadata": {
        "colab": {
          "base_uri": "https://localhost:8080/",
          "height": 35
        },
        "id": "VXJr2g52y9cN",
        "outputId": "066db55f-c3ec-4d07-e799-4a0b79e6334e"
      },
      "execution_count": 8,
      "outputs": [
        {
          "output_type": "execute_result",
          "data": {
            "text/plain": [
              "'Your blood sugar is 200'"
            ],
            "application/vnd.google.colaboratory.intrinsic+json": {
              "type": "string"
            }
          },
          "metadata": {},
          "execution_count": 8
        }
      ]
    }
  ]
}